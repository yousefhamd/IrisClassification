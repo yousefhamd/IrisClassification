{
 "cells": [
  {
   "cell_type": "code",
   "execution_count": 9,
   "metadata": {},
   "outputs": [],
   "source": [
    "from pandas import read_csv\n",
    "from sklearn.model_selection import train_test_split\n",
    "from numpy import nan, savetxt, array\n",
    "from sklearn.impute import SimpleImputer\n",
    "from sklearn.decomposition import PCA\n",
    "from sklearn.svm import SVC\n",
    "from sklearn.metrics import classification_report\n",
    "from tkinter import *\n",
    "from tkinter import ttk, messagebox"
   ]
  },
  {
   "cell_type": "markdown",
   "metadata": {},
   "source": [
    "<br>\n",
    "<h1 style=\"text-align: center;\">Data Preparation</h1>"
   ]
  },
  {
   "cell_type": "code",
   "execution_count": 2,
   "metadata": {},
   "outputs": [
    {
     "name": "stdout",
     "output_type": "stream",
     "text": [
      "     sep_len  sep_wid  pet_len  pet_wid           class\n",
      "0        5.1      3.5      1.4      0.2     Iris-setosa\n",
      "1        4.9      3.0      1.4      0.2     Iris-setosa\n",
      "2        4.7      3.2      1.3      0.2     Iris-setosa\n",
      "3        NaN      3.1      1.5      NaN     Iris-setosa\n",
      "4        NaN      3.6      1.4      0.2     Iris-setosa\n",
      "..       ...      ...      ...      ...             ...\n",
      "145      6.7      3.0      5.2      2.3  Iris-virginica\n",
      "146      6.3      2.5      5.0      1.9  Iris-virginica\n",
      "147      6.5      3.0      5.2      2.0  Iris-virginica\n",
      "148      6.2      3.4      5.4      2.3  Iris-virginica\n",
      "149      5.9      3.0      5.1      1.8  Iris-virginica\n",
      "\n",
      "[150 rows x 5 columns]\n",
      "      sep_len  sep_wid  pet_len   pet_wid           class\n",
      "0    5.100000      3.5      1.4  0.200000     Iris-setosa\n",
      "1    4.900000      3.0      1.4  0.200000     Iris-setosa\n",
      "2    4.700000      3.2      1.3  0.200000     Iris-setosa\n",
      "3    5.870345      3.1      1.5  1.187324     Iris-setosa\n",
      "4    5.870345      3.6      1.4  0.200000     Iris-setosa\n",
      "..        ...      ...      ...       ...             ...\n",
      "145  6.700000      3.0      5.2  2.300000  Iris-virginica\n",
      "146  6.300000      2.5      5.0  1.900000  Iris-virginica\n",
      "147  6.500000      3.0      5.2  2.000000  Iris-virginica\n",
      "148  6.200000      3.4      5.4  2.300000  Iris-virginica\n",
      "149  5.900000      3.0      5.1  1.800000  Iris-virginica\n",
      "\n",
      "[150 rows x 5 columns]\n"
     ]
    }
   ],
   "source": [
    "imputer = SimpleImputer(missing_values=nan, strategy='mean')\n",
    "dataframe = read_csv('iris_Missing.csv', names=['sep_len', 'sep_wid', 'pet_len', 'pet_wid', 'class'])\n",
    "print(dataframe)\n",
    "dataframe['sep_len'] = imputer.fit_transform(dataframe['sep_len'].values.reshape(-1, 1))[:,0]\n",
    "dataframe['sep_wid'] = imputer.fit_transform(dataframe['sep_wid'].values.reshape(-1, 1))[:,0]\n",
    "dataframe['pet_len'] = imputer.fit_transform(dataframe['pet_len'].values.reshape(-1, 1))[:,0]\n",
    "dataframe['pet_wid'] = imputer.fit_transform(dataframe['pet_wid'].values.reshape(-1, 1))[:,0]\n",
    "print(dataframe)"
   ]
  },
  {
   "cell_type": "markdown",
   "metadata": {},
   "source": [
    "<br>\n",
    "<h1 style=\"text-align: center;\">Feature Engineering</h1>"
   ]
  },
  {
   "cell_type": "code",
   "execution_count": 3,
   "metadata": {},
   "outputs": [],
   "source": [
    "# Features Separation\n",
    "x_sep = dataframe.iloc[:,:2].values\n",
    "x_pet = dataframe.iloc[:,2:-1].values\n",
    "y = dataframe.iloc[:,-1].values\n",
    "# Decalring the PCA algorithm\n",
    "pca = PCA(n_components=1)\n",
    "# Sepal reduction\n",
    "pca.fit(x_sep)\n",
    "x_sep_reduced = pca.fit_transform(x_sep)\n",
    "# Petal reduction\n",
    "pca.fit(x_pet)\n",
    "x_pet_reduced = pca.fit_transform(x_pet)"
   ]
  },
  {
   "cell_type": "code",
   "execution_count": 4,
   "metadata": {},
   "outputs": [
    {
     "name": "stdout",
     "output_type": "stream",
     "text": [
      "File has been saved successfuly!\n"
     ]
    }
   ],
   "source": [
    "arr = array([x_sep_reduced[:,0], x_pet_reduced[:,0], y])\n",
    "arr = arr.T\n",
    "savetxt('iris_reduced.csv', arr, delimiter=',', fmt='%s')\n",
    "print('File has been saved successfuly!')"
   ]
  },
  {
   "cell_type": "markdown",
   "metadata": {},
   "source": [
    "<br>\n",
    "<h1 style=\"text-align: center;\">Data Modeling</h1>"
   ]
  },
  {
   "cell_type": "code",
   "execution_count": 5,
   "metadata": {},
   "outputs": [],
   "source": [
    "# the base dataset\n",
    "dataframe = read_csv('iris_reduced.csv')\n",
    "# features\n",
    "x = dataframe.iloc[:,:-1].values\n",
    "y = dataframe.iloc[:,-1].values"
   ]
  },
  {
   "cell_type": "markdown",
   "metadata": {},
   "source": [
    "<br>\n",
    "<h3 style=\"text-align: center;\">GUI Presentation</h3>"
   ]
  },
  {
   "cell_type": "code",
   "execution_count": 18,
   "metadata": {},
   "outputs": [],
   "source": [
    "# Window Properties\n",
    "window = Tk()\n",
    "window.title('Iris Detection')\n",
    "window.geometry('400x300')\n",
    "\n",
    "# Widgets properties\n",
    "sepal = StringVar()\n",
    "petal = StringVar()\n",
    "\n",
    "ttk.Label(window,\n",
    "          text='Sepal value: ').grid(column=1,\n",
    "                                     row=1,\n",
    "                                     padx=30,\n",
    "                                     pady=30)\n",
    "\n",
    "ttk.Entry(window,\n",
    "           textvariable=sepal,\n",
    "             font=('calibre',10,'normal')).grid(column=2,\n",
    "                                                row=1,\n",
    "                                                padx=30,\n",
    "                                                pady=30)\n",
    "\n",
    "ttk.Label(window,\n",
    "          text='Petal value: ').grid(column=1,\n",
    "                                     row=2,\n",
    "                                     padx=30,\n",
    "                                     pady=30)\n",
    "\n",
    "ttk.Entry(window,\n",
    "           textvariable=petal,\n",
    "           font=('calibre',10,'normal')).grid(column=2,\n",
    "                                              row=2,\n",
    "                                              padx=30,\n",
    "                                              pady=30)\n",
    "\n",
    "# Fitting function\n",
    "classifier = SVC()\n",
    "def fitting():\n",
    "    # training features\n",
    "    classifier.fit(x, y)\n",
    "    # classification prediction\n",
    "    test = classifier.predict([[float(sepal.get()), float(petal.get())]])\n",
    "    messagebox.showinfo('Result', 'The prediction of your sample is: ' + str(test[0]))\n",
    "    # clear input\n",
    "    sepal.set('')\n",
    "    petal.set('')\n",
    "\n",
    "ttk.Button(window,\n",
    "           text='Predict',\n",
    "           command=fitting).grid(column=2,\n",
    "                                 row=3,\n",
    "                                 padx=20,\n",
    "                                 pady=20)\n",
    "\n",
    "window.mainloop()"
   ]
  },
  {
   "cell_type": "markdown",
   "metadata": {},
   "source": [
    "<br>\n",
    "<h1 style=\"text-align: center;\">Perfomance Measure</h1>"
   ]
  },
  {
   "cell_type": "code",
   "execution_count": 8,
   "metadata": {},
   "outputs": [
    {
     "name": "stdout",
     "output_type": "stream",
     "text": [
      "                 precision    recall  f1-score   support\n",
      "\n",
      "    Iris-setosa       1.00      1.00      1.00        13\n",
      "Iris-versicolor       0.93      1.00      0.97        14\n",
      " Iris-virginica       1.00      0.91      0.95        11\n",
      "\n",
      "       accuracy                           0.97        38\n",
      "      macro avg       0.98      0.97      0.97        38\n",
      "   weighted avg       0.98      0.97      0.97        38\n",
      "\n"
     ]
    }
   ],
   "source": [
    "# splitting the dataset to train and test datasets\n",
    "x_train, x_test, y_train, y_test = train_test_split(x, y, test_size=0.25, random_state=1)\n",
    "classifier.fit(x_train, y_train)\n",
    "y_predicted = classifier.predict(x_test)\n",
    "print(classification_report(y_test, y_predicted))"
   ]
  }
 ],
 "metadata": {
  "kernelspec": {
   "display_name": "Python 3",
   "language": "python",
   "name": "python3"
  },
  "language_info": {
   "codemirror_mode": {
    "name": "ipython",
    "version": 3
   },
   "file_extension": ".py",
   "mimetype": "text/x-python",
   "name": "python",
   "nbconvert_exporter": "python",
   "pygments_lexer": "ipython3",
   "version": "3.10.4"
  },
  "orig_nbformat": 4
 },
 "nbformat": 4,
 "nbformat_minor": 2
}
